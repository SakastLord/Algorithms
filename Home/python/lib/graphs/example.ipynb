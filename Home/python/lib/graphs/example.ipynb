{
 "metadata": {
  "language_info": {
   "codemirror_mode": {
    "name": "ipython",
    "version": 3
   },
   "file_extension": ".py",
   "mimetype": "text/x-python",
   "name": "python",
   "nbconvert_exporter": "python",
   "pygments_lexer": "ipython3",
   "version": "3.6.10-final"
  },
  "orig_nbformat": 2,
  "kernelspec": {
   "name": "python3",
   "display_name": "Python 3"
  }
 },
 "nbformat": 4,
 "nbformat_minor": 2,
 "cells": [
  {
   "cell_type": "code",
   "execution_count": 1,
   "metadata": {},
   "outputs": [
    {
     "output_type": "execute_result",
     "data": {
      "text/plain": "'/Users/raj/Documents/class_subjects/Algorithms/graphs'"
     },
     "metadata": {},
     "execution_count": 1
    }
   ],
   "source": [
    "import os \n",
    "os.getcwd()"
   ]
  },
  {
   "cell_type": "code",
   "execution_count": 3,
   "metadata": {},
   "outputs": [],
   "source": [
    "from graph_base import GraphBase"
   ]
  },
  {
   "cell_type": "code",
   "execution_count": 5,
   "metadata": {},
   "outputs": [
    {
     "output_type": "execute_result",
     "data": {
      "text/plain": "['/Users/raj/Documents/class_subjects/Algorithms/graphs',\n '/Users/raj/Documents/work/Home/etflogic-research/python',\n '/Users/raj/Documents/work/Home/etflogic-research/python/api',\n '/private/var/folders/vh/klwv059x6055j90z43f5pffw0000gn/T/13207b6a-77f0-40bf-b8c1-a95e16878249/Users/raj/Documents/Home/work/etflogic-research/python/api/api_modules',\n '/private/var/folders/vh/klwv059x6055j90z43f5pffw0000gn/T/13207b6a-77f0-40bf-b8c1-a95e16878249/Users/raj/Documents/work/Home/etflogic-research/python/scripts',\n '/Users/raj/Documents/QuantResearch/Home/QuantEquityManagement/python/lib',\n '/Users/raj/.vscode/extensions/ms-python.python-2020.7.94776/pythonFiles',\n '/Users/raj/.vscode/extensions/ms-python.python-2020.7.94776/pythonFiles/lib/python',\n '/Users/raj/anaconda/lib/python36.zip',\n '/Users/raj/anaconda/lib/python3.6',\n '/Users/raj/anaconda/lib/python3.6/lib-dynload',\n '',\n '/Users/raj/.local/lib/python3.6/site-packages',\n '/Users/raj/anaconda/lib/python3.6/site-packages',\n '/Users/raj/anaconda/lib/python3.6/site-packages/IPython/extensions',\n '/Users/raj/.ipython']"
     },
     "metadata": {},
     "execution_count": 5
    }
   ],
   "source": [
    "import sys\n",
    "sys.path"
   ]
  },
  {
   "cell_type": "code",
   "execution_count": 6,
   "metadata": {},
   "outputs": [
    {
     "output_type": "execute_result",
     "data": {
      "text/plain": "['graph_base.py', 'graph.py', '__init__.py', '__pycache__', 'example.ipynb']"
     },
     "metadata": {},
     "execution_count": 6
    }
   ],
   "source": [
    "import os \n",
    "os.listdir()"
   ]
  },
  {
   "cell_type": "code",
   "execution_count": 13,
   "metadata": {},
   "outputs": [
    {
     "output_type": "execute_result",
     "data": {
      "text/plain": "'raju'"
     },
     "metadata": {},
     "execution_count": 13
    }
   ],
   "source": [
    "p.element()"
   ]
  },
  {
   "cell_type": "code",
   "execution_count": 1,
   "metadata": {},
   "outputs": [],
   "source": [
    "import os"
   ]
  },
  {
   "cell_type": "code",
   "execution_count": 2,
   "metadata": {},
   "outputs": [
    {
     "output_type": "execute_result",
     "data": {
      "text/plain": "'/Users/raj/Documents/class_subjects/algorithms_in_python/graphs'"
     },
     "metadata": {},
     "execution_count": 2
    }
   ],
   "source": [
    "os.getcwd()"
   ]
  },
  {
   "cell_type": "code",
   "execution_count": 1,
   "metadata": {},
   "outputs": [
    {
     "output_type": "execute_result",
     "data": {
      "text/plain": "['/Users/raj/Documents/class_subjects/Algorithms/graphs',\n '/Users/raj/Documents/work/Home/etflogic-research/python',\n '/Users/raj/Documents/work/Home/etflogic-research/python/api',\n '/private/var/folders/vh/klwv059x6055j90z43f5pffw0000gn/T/13207b6a-77f0-40bf-b8c1-a95e16878249/Users/raj/Documents/Home/work/etflogic-research/python/api/api_modules',\n '/private/var/folders/vh/klwv059x6055j90z43f5pffw0000gn/T/13207b6a-77f0-40bf-b8c1-a95e16878249/Users/raj/Documents/work/Home/etflogic-research/python/scripts',\n '/Users/raj/Documents/QuantResearch/Home/QuantEquityManagement/python/lib',\n '/Users/raj/.vscode/extensions/ms-python.python-2020.7.94776/pythonFiles',\n '/Users/raj/.vscode/extensions/ms-python.python-2020.7.94776/pythonFiles/lib/python',\n '/Users/raj/anaconda/lib/python36.zip',\n '/Users/raj/anaconda/lib/python3.6',\n '/Users/raj/anaconda/lib/python3.6/lib-dynload',\n '',\n '/Users/raj/.local/lib/python3.6/site-packages',\n '/Users/raj/anaconda/lib/python3.6/site-packages',\n '/Users/raj/anaconda/lib/python3.6/site-packages/IPython/extensions',\n '/Users/raj/.ipython']"
     },
     "metadata": {},
     "execution_count": 1
    }
   ],
   "source": [
    "import sys \n",
    "sys.path"
   ]
  },
  {
   "cell_type": "code",
   "execution_count": null,
   "metadata": {},
   "outputs": [],
   "source": []
  }
 ]
}