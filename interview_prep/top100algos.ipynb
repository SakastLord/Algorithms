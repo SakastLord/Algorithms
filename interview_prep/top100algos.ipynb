{
 "cells": [
  {
   "cell_type": "code",
   "execution_count": 4,
   "metadata": {
    "collapsed": true
   },
   "outputs": [],
   "source": [
    "# two sum\n",
    "def two_sum(nums,target):\n",
    "    n = len(nums)\n",
    "    for i in range(n):\n",
    "        result = 0\n",
    "        for j in range(i+1,n):\n",
    "            result = nums[i] + nums[j]\n",
    "            if result == target:\n",
    "                return (i,j)\n",
    "    return (-1,-1)\n",
    "\n",
    "# use dictionaries instead\n",
    "def two_sum2(nums,target):\n",
    "    my_hash = {}\n",
    "    for i,j in enumerate(nums):\n",
    "        result = target - j\n",
    "        if result not in my_hash:\n",
    "            my_hash[j] = i\n",
    "        else:\n",
    "            return my_hash[result],i\n",
    "    return (-1,-1)\n",
    "        "
   ]
  },
  {
   "cell_type": "code",
   "execution_count": 12,
   "metadata": {},
   "outputs": [
    {
     "name": "stdout",
     "output_type": "stream",
     "text": [
      "100000 loops, best of 3: 2.21 µs per loop\n"
     ]
    }
   ],
   "source": [
    "nums =[2,7,11,15,5,6,7,8,9,10,22,35]\n",
    "target =22\n",
    "%timeit two_sum(nums,target)"
   ]
  },
  {
   "cell_type": "code",
   "execution_count": 13,
   "metadata": {},
   "outputs": [
    {
     "name": "stdout",
     "output_type": "stream",
     "text": [
      "The slowest run took 4.50 times longer than the fastest. This could mean that an intermediate result is being cached.\n",
      "1000000 loops, best of 3: 807 ns per loop\n"
     ]
    }
   ],
   "source": [
    "target = 22\n",
    "%timeit two_sum2(nums,target) # much faster\n"
   ]
  },
  {
   "cell_type": "code",
   "execution_count": 1,
   "metadata": {
    "collapsed": true
   },
   "outputs": [],
   "source": [
    "# duplicates\n",
    "def is_dup(x):\n",
    "    \"\"\"given array of integers, find if array contains duplicates\n",
    "       Function should return True if any value appears atleast twice in array\n",
    "       should return False if every element is distinct\n",
    "    \"\"\"\n",
    "    my_hash = {}\n",
    "    for i in x:\n",
    "        if i in my_hash: return True\n",
    "        my_hash[i] = 0\n",
    "    return False"
   ]
  },
  {
   "cell_type": "code",
   "execution_count": 2,
   "metadata": {},
   "outputs": [
    {
     "name": "stdout",
     "output_type": "stream",
     "text": [
      "The slowest run took 4.70 times longer than the fastest. This could mean that an intermediate result is being cached.\n",
      "1000000 loops, best of 3: 1.49 µs per loop\n"
     ]
    }
   ],
   "source": [
    "nums = [1,0,2,3,15,10,22,11,55,33,42,100,200,300,400]\n",
    "%timeit is_dup(nums)"
   ]
  },
  {
   "cell_type": "code",
   "execution_count": 3,
   "metadata": {
    "collapsed": true
   },
   "outputs": [],
   "source": [
    "def dup2(x):\n",
    "    seen = set()\n",
    "    for i in x:\n",
    "        if i in seen: return True\n",
    "        seen.add(i)\n",
    "    return False"
   ]
  },
  {
   "cell_type": "code",
   "execution_count": 4,
   "metadata": {},
   "outputs": [
    {
     "name": "stdout",
     "output_type": "stream",
     "text": [
      "1000000 loops, best of 3: 1.73 µs per loop\n"
     ]
    }
   ],
   "source": [
    "nums = [1,0,2,3,15,10,22,11,55,33,42,100,200,300,400]\n",
    "%timeit dup2(nums)"
   ]
  },
  {
   "cell_type": "code",
   "execution_count": 1,
   "metadata": {
    "collapsed": true
   },
   "outputs": [],
   "source": [
    "# first version is better\n",
    "# maximum subarray\n",
    "nums = [-2,1,-3,4,-1,2,1,-5,4]\n",
    "# contiguous array is [4,-1,2,1]\n",
    "def maximum_subarray(nums):\n",
    "    n = len(nums)\n",
    "    if n == 0: return 0\n",
    "    best_seen = nums[0] # assume first value is first seen\n",
    "    runningTotal = 0\n",
    "    for i in range(n):\n",
    "        # set running total to current number\n",
    "        runningTotal = nums[i]\n",
    "        if runningTotal > best_seen: best_seen = runningTotal\n",
    "        for j in range(i+1,n):\n",
    "            runningTotal += nums[j]\n",
    "            # compare running total to best seen value\n",
    "            if runningTotal > best_seen: best_seen = runningTotal\n",
    "    return best_seen"
   ]
  },
  {
   "cell_type": "code",
   "execution_count": 2,
   "metadata": {},
   "outputs": [
    {
     "data": {
      "text/plain": [
       "6"
      ]
     },
     "execution_count": 2,
     "metadata": {},
     "output_type": "execute_result"
    }
   ],
   "source": [
    "maximum_subarray(nums)"
   ]
  },
  {
   "cell_type": "code",
   "execution_count": 3,
   "metadata": {
    "collapsed": true
   },
   "outputs": [],
   "source": [
    "def maximum_subarray2(nums):\n",
    "    n = len(nums)\n",
    "    if n == 0: return 0\n",
    "    prev_val = nums[0]\n",
    "    best_seen = nums[0]\n",
    "    for i in range(n):\n",
    "        prev_val = prev_val + nums[i] if prev_val > 0 else nums[i]\n",
    "        best_seen = max(prev_val,best_seen)\n",
    "    return best_seen"
   ]
  },
  {
   "cell_type": "code",
   "execution_count": 5,
   "metadata": {},
   "outputs": [
    {
     "data": {
      "text/plain": [
       "6"
      ]
     },
     "execution_count": 5,
     "metadata": {},
     "output_type": "execute_result"
    }
   ],
   "source": [
    "maximum_subarray2(nums)"
   ]
  },
  {
   "cell_type": "code",
   "execution_count": 6,
   "metadata": {},
   "outputs": [
    {
     "name": "stdout",
     "output_type": "stream",
     "text": [
      "100000 loops, best of 3: 5.9 µs per loop\n"
     ]
    }
   ],
   "source": [
    "%timeit maximum_subarray(nums)"
   ]
  },
  {
   "cell_type": "code",
   "execution_count": 7,
   "metadata": {},
   "outputs": [
    {
     "name": "stdout",
     "output_type": "stream",
     "text": [
      "100000 loops, best of 3: 2.7 µs per loop\n"
     ]
    }
   ],
   "source": [
    "%timeit maximum_subarray2(nums)"
   ]
  },
  {
   "cell_type": "code",
   "execution_count": 1,
   "metadata": {
    "collapsed": true
   },
   "outputs": [],
   "source": []
  },
  {
   "cell_type": "code",
   "execution_count": 2,
   "metadata": {
    "collapsed": true
   },
   "outputs": [],
   "source": [
    "arr1 = [-1,3,8,2,9,5]\n",
    "arr2 = [4,1,2,10,5,20]\n",
    "ans = two_sum_part2(arr1,arr2,24)"
   ]
  },
  {
   "cell_type": "code",
   "execution_count": 3,
   "metadata": {},
   "outputs": [
    {
     "data": {
      "text/plain": [
       "(-1, -1)"
      ]
     },
     "execution_count": 3,
     "metadata": {},
     "output_type": "execute_result"
    }
   ],
   "source": [
    "ans"
   ]
  },
  {
   "cell_type": "code",
   "execution_count": 6,
   "metadata": {
    "collapsed": true
   },
   "outputs": [],
   "source": [
    "def count(s,value):\n",
    "    my_hash = {}\n",
    "    for i in s: \n",
    "        if i in my_hash:\n",
    "            my_hash[i] += 1\n",
    "        else:\n",
    "            my_hash[i] = 1\n",
    "    return my_hash[value]"
   ]
  },
  {
   "cell_type": "code",
   "execution_count": 7,
   "metadata": {
    "collapsed": true
   },
   "outputs": [],
   "source": [
    "s = [3,4,5,6,3,3,2,5,6]"
   ]
  },
  {
   "cell_type": "code",
   "execution_count": 8,
   "metadata": {},
   "outputs": [
    {
     "data": {
      "text/plain": [
       "3"
      ]
     },
     "execution_count": 8,
     "metadata": {},
     "output_type": "execute_result"
    }
   ],
   "source": [
    "count(s,3)"
   ]
  },
  {
   "cell_type": "code",
   "execution_count": 9,
   "metadata": {
    "collapsed": true
   },
   "outputs": [],
   "source": [
    "class Node:\n",
    "    def __init__(self,data):\n",
    "        self.data = data\n",
    "        self.next = None\n",
    "class LinkedList:\n",
    "    def __init__(self):\n",
    "        self.head = None\n",
    "        self.size = -1"
   ]
  },
  {
   "cell_type": "code",
   "execution_count": 11,
   "metadata": {},
   "outputs": [],
   "source": [
    "ll = LinkedList()\n",
    "ll.head = Node(1)"
   ]
  },
  {
   "cell_type": "code",
   "execution_count": 15,
   "metadata": {},
   "outputs": [],
   "source": []
  },
  {
   "cell_type": "code",
   "execution_count": null,
   "metadata": {
    "collapsed": true
   },
   "outputs": [],
   "source": []
  }
 ],
 "metadata": {
  "kernelspec": {
   "display_name": "Python 3",
   "language": "python",
   "name": "python3"
  },
  "language_info": {
   "codemirror_mode": {
    "name": "ipython",
    "version": 3
   },
   "file_extension": ".py",
   "mimetype": "text/x-python",
   "name": "python",
   "nbconvert_exporter": "python",
   "pygments_lexer": "ipython3",
   "version": "3.6.8"
  }
 },
 "nbformat": 4,
 "nbformat_minor": 2
}
