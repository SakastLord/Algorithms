{
 "cells": [
  {
   "cell_type": "code",
   "execution_count": null,
   "metadata": {
    "collapsed": true
   },
   "outputs": [],
   "source": [
    "# need to create a class of nodes\n",
    "# objects of this class will be actual nodes\n",
    "# we will inswert our linked list into\n",
    "\n",
    "# node for single linked list contains element and reference to next node\n",
    "\n",
    "class Node:\n",
    "    def __init__(self,data,reference=None):\n",
    "        self.element = data\n",
    "        self.nref = reference\n",
    "    def __repr__(self):\n",
    "        return f'element: {self.element} \\\n",
    "        \\nnref: {self.nref}'"
   ]
  },
  {
   "cell_type": "code",
   "execution_count": null,
   "metadata": {},
   "outputs": [],
   "source": [
    "# next create a singly linked list. \n",
    "# class contains methods to insert, remove and traverse, and sort\n",
    "# member variables are start_node which is the head of the list (first node)\n",
    "# start_node set to null since its empty at time of creation\n",
    "class SinglyLinkedList:\n",
    "    \"\"\"Create a new Singly Linked List\n",
    "        Takes O(1) time\n",
    "    \"\"\"\n",
    "    class Node:\n",
    "        def __init__(self,data,reference=None):\n",
    "            self.element = data\n",
    "            self.nref = reference\n",
    "        \n",
    "    def __init__(self):\n",
    "        self.start_node = None\n",
    "        self.size = 0\n",
    "\n",
    "    def traverse(self):\n",
    "        if self.start_node is None:\n",
    "            print(\"list has no elements\")\n",
    "        else:\n",
    "            n = self.start_node\n",
    "            while n is not None:\n",
    "                print(n.element,\" \")\n",
    "                n = n.nref\n",
    "    def insert_at_start(self,data):\n",
    "        \"\"\"inserts data at start of the list\n",
    "        takes O(1) time\"\"\"\n",
    "        new_node = Node(data)  # create a node\n",
    "        new_node.nref = self.start_node # new nodes next reference is old nodes start\n",
    "        self.start_node = new_node  # new node is now the start_node\n",
    "        self.size += 1\n",
    "    \n",
    "    def insert_at_end(self,data):\n",
    "        \"\"\"inserts value at end of the list\n",
    "        if list is empty, takes O(1) time.  Otherwise:\n",
    "        O(n) time\"\"\"\n",
    "        new_node = Node(data)\n",
    "        if self.start_node is None:  # if list is empty\n",
    "            self.start_node = new_node  # then start node is the new node\n",
    "            self.size += 1\n",
    "            return\n",
    "        n = self.start_node\n",
    "        # iterate until last element\n",
    "        while n.nref is not None:\n",
    "            n = n.nref\n",
    "        n.nref = new_node  # set the next reference to point to new node\n",
    "        self.size += 1\n",
    "    \n",
    "    def insert_after_item(self,x,data):\n",
    "        \"\"\"inserts value after item x is found\n",
    "        if found, takes O(n-k), Otherwise, O(n)\"\"\"\n",
    "        n = self.start_node\n",
    "        while n:  # iterate until x is found\n",
    "            if n.element == x:\n",
    "                break\n",
    "            n = n.nref\n",
    "        if n is None:\n",
    "            print(\"item not found in list\")\n",
    "        else: # when element is found\n",
    "            new_node = Node(data)   # create a new node\n",
    "            new_node.nref = n.nref  # set the new nodes next ref to current nodes next ref\n",
    "            n.nref = new_node # set the current nodes next ref to new node\n",
    "            self.size += 1\n",
    "    \n",
    "    def insert_before_item(self,x,data):\n",
    "        \"runs in O(n) time\"\n",
    "        if self.start_node is None:\n",
    "            print(\"list has no elements\")\n",
    "            return \n",
    "        # if element is found in first node\n",
    "        if x == self.start_node.element:\n",
    "            new_node= Node(data)\n",
    "            new_node.nref = self.start_node\n",
    "            self.start_node = new_node\n",
    "            self.size += 1\n",
    "            return \n",
    "        n = self.start_node\n",
    "        # iterate until next node contains element\n",
    "        while n.nref is not None:\n",
    "            if n.nref.element == x:\n",
    "                break\n",
    "            n = n.nref\n",
    "        if n.nref is None:\n",
    "            print(\"item not found is list\")\n",
    "        else:\n",
    "            new_node = Node(data)\n",
    "            new_node.nref = n.nref # new nodes next reference is previous nodes next\n",
    "            n.nref = new_node # previous node's next reference is now the new node\n",
    "            self.size += 1\n",
    "    \n",
    "    def insert_at_index(self,index,data):\n",
    "        if index == 1:\n",
    "            new_node = Node(data)\n",
    "            new_node.nref = self.start_node\n",
    "            self.start_node = new_node\n",
    "            self.size += 1\n",
    "            return \n",
    "        n = self.start_node\n",
    "        # similar to insert after element\n",
    "        while n and index > 1:\n",
    "            n = n.nref\n",
    "            index -= 1\n",
    "        if n is None:\n",
    "            print(\"Index out of bounds\")\n",
    "        else:\n",
    "            new_node = Node(data)\n",
    "            new_node.nref = n.nref\n",
    "            n.nref = new_node\n",
    "            self.size += 1\n",
    "    def count_positions(self):\n",
    "        return self.size\n",
    "    def search(self,x):\n",
    "        if self.start_node is None:\n",
    "            print(\"list has non elements\")\n",
    "            return \n",
    "        n = self.start_node\n",
    "        while n:\n",
    "            if n.element == x: return True\n",
    "            n = n.nref\n",
    "        return False\n",
    "    \n",
    "    def reverse(self):\n",
    "        n = self.start_node # current node\n",
    "        prev_node = None  \n",
    "        next_node = None \n",
    "        while n: # assume first node case...\n",
    "            next_node = n.nref  # save the next reference of current node\n",
    "            n.nref = prev_node  # replace next reference to prev node\n",
    "            prev_node = n  # prev_node now is the current node\n",
    "            n = next_node  # increment over to next node\n",
    "        self.start_node = prev_node\n",
    "    \n",
    "    def delete_from_start(self):\n",
    "        if self.start_node is None:\n",
    "            print(\"list has no elements to delete\")\n",
    "            return\n",
    "        # delete by assining next reference of start node to start node\n",
    "        self.start_node = self.start_node.nref\n",
    "    \n",
    "    def delete_from_end(self):\n",
    "        if self.start_node is None:\n",
    "            print(\"list has no elements to delete\")\n",
    "            return \n",
    "        n = self.start_node\n",
    "        while n.nref.nref:\n",
    "            n = n.nref\n",
    "        n.nref = None\n",
    "\n",
    "    def delete_by_value(self,value):\n",
    "        if self.start_node is None:\n",
    "            print(\"no element to delete\")\n",
    "            return \n",
    "        if self.start_node.element == value: # if an element is found\n",
    "            self.start_node = self.start_node.nref  # assign next reference of current node to start node\n",
    "            return \n",
    "        n = self.start_node\n",
    "        while n:\n",
    "            if n.nref.element == value: \n",
    "                break\n",
    "            n = n.nref\n",
    "        if n.nref is None:\n",
    "            print(\"item not found in index\")\n",
    "        else:\n",
    "            n.nref = n.nref.nref\n",
    "        "
   ]
  },
  {
   "cell_type": "code",
   "execution_count": null,
   "metadata": {},
   "outputs": [],
   "source": [
    "linked_list = SinglyLinkedList()"
   ]
  },
  {
   "cell_type": "code",
   "execution_count": 3,
   "metadata": {},
   "outputs": [
    {
     "ename": "NameError",
     "evalue": "name 'Node' is not defined",
     "output_type": "error",
     "traceback": [
      "\u001b[0;31m---------------------------------------------------------------------------\u001b[0m",
      "\u001b[0;31mNameError\u001b[0m                                 Traceback (most recent call last)",
      "\u001b[0;32m<ipython-input-3-bfec28d2a2be>\u001b[0m in \u001b[0;36m<module>\u001b[0;34m()\u001b[0m\n\u001b[0;32m----> 1\u001b[0;31m \u001b[0mlinked_list\u001b[0m\u001b[0;34m.\u001b[0m\u001b[0minsert_at_end\u001b[0m\u001b[0;34m(\u001b[0m\u001b[0;36m3\u001b[0m\u001b[0;34m)\u001b[0m\u001b[0;34m\u001b[0m\u001b[0;34m\u001b[0m\u001b[0m\n\u001b[0m\u001b[1;32m      2\u001b[0m \u001b[0mlinked_list\u001b[0m\u001b[0;34m.\u001b[0m\u001b[0minsert_at_end\u001b[0m\u001b[0;34m(\u001b[0m\u001b[0;36m5\u001b[0m\u001b[0;34m)\u001b[0m\u001b[0;34m\u001b[0m\u001b[0;34m\u001b[0m\u001b[0m\n\u001b[1;32m      3\u001b[0m \u001b[0mlinked_list\u001b[0m\u001b[0;34m.\u001b[0m\u001b[0minsert_at_start\u001b[0m\u001b[0;34m(\u001b[0m\u001b[0;36m22\u001b[0m\u001b[0;34m)\u001b[0m\u001b[0;34m\u001b[0m\u001b[0;34m\u001b[0m\u001b[0m\n\u001b[1;32m      4\u001b[0m \u001b[0mlinked_list\u001b[0m\u001b[0;34m.\u001b[0m\u001b[0minsert_after_item\u001b[0m\u001b[0;34m(\u001b[0m\u001b[0;36m3\u001b[0m\u001b[0;34m,\u001b[0m\u001b[0;36m100\u001b[0m\u001b[0;34m)\u001b[0m\u001b[0;34m\u001b[0m\u001b[0;34m\u001b[0m\u001b[0m\n\u001b[1;32m      5\u001b[0m \u001b[0mlinked_list\u001b[0m\u001b[0;34m.\u001b[0m\u001b[0minsert_before_item\u001b[0m\u001b[0;34m(\u001b[0m\u001b[0;36m100\u001b[0m\u001b[0;34m,\u001b[0m\u001b[0;36m200\u001b[0m\u001b[0;34m)\u001b[0m\u001b[0;34m\u001b[0m\u001b[0;34m\u001b[0m\u001b[0m\n",
      "\u001b[0;32m<ipython-input-1-3ed69807e0b8>\u001b[0m in \u001b[0;36minsert_at_end\u001b[0;34m(self, data)\u001b[0m\n\u001b[1;32m     36\u001b[0m         \u001b[0;32mif\u001b[0m \u001b[0mlist\u001b[0m \u001b[0;32mis\u001b[0m \u001b[0mempty\u001b[0m\u001b[0;34m,\u001b[0m \u001b[0mtakes\u001b[0m \u001b[0mO\u001b[0m\u001b[0;34m(\u001b[0m\u001b[0;36m1\u001b[0m\u001b[0;34m)\u001b[0m \u001b[0mtime\u001b[0m\u001b[0;34m.\u001b[0m  \u001b[0mOtherwise\u001b[0m\u001b[0;34m:\u001b[0m\u001b[0;34m\u001b[0m\u001b[0;34m\u001b[0m\u001b[0m\n\u001b[1;32m     37\u001b[0m         O(n) time\"\"\"\n\u001b[0;32m---> 38\u001b[0;31m         \u001b[0mnew_node\u001b[0m \u001b[0;34m=\u001b[0m \u001b[0mNode\u001b[0m\u001b[0;34m(\u001b[0m\u001b[0mdata\u001b[0m\u001b[0;34m)\u001b[0m\u001b[0;34m\u001b[0m\u001b[0;34m\u001b[0m\u001b[0m\n\u001b[0m\u001b[1;32m     39\u001b[0m         \u001b[0;32mif\u001b[0m \u001b[0mself\u001b[0m\u001b[0;34m.\u001b[0m\u001b[0mstart_node\u001b[0m \u001b[0;32mis\u001b[0m \u001b[0;32mNone\u001b[0m\u001b[0;34m:\u001b[0m  \u001b[0;31m# if list is empty\u001b[0m\u001b[0;34m\u001b[0m\u001b[0;34m\u001b[0m\u001b[0m\n\u001b[1;32m     40\u001b[0m             \u001b[0mself\u001b[0m\u001b[0;34m.\u001b[0m\u001b[0mstart_node\u001b[0m \u001b[0;34m=\u001b[0m \u001b[0mnew_node\u001b[0m  \u001b[0;31m# then start node is the new node\u001b[0m\u001b[0;34m\u001b[0m\u001b[0;34m\u001b[0m\u001b[0m\n",
      "\u001b[0;31mNameError\u001b[0m: name 'Node' is not defined"
     ]
    }
   ],
   "source": [
    "linked_list.insert_at_end(3)\n",
    "linked_list.insert_at_end(5)\n",
    "linked_list.insert_at_start(22)\n",
    "linked_list.insert_after_item(3,100)\n",
    "linked_list.insert_before_item(100,200)\n",
    "linked_list.insert_at_index(3,5000)"
   ]
  },
  {
   "cell_type": "code",
   "execution_count": null,
   "metadata": {},
   "outputs": [],
   "source": [
    "linked_list.traverse()"
   ]
  },
  {
   "cell_type": "code",
   "execution_count": null,
   "metadata": {},
   "outputs": [],
   "source": [
    "linked_list.count_positions()"
   ]
  },
  {
   "cell_type": "code",
   "execution_count": null,
   "metadata": {},
   "outputs": [],
   "source": [
    "linked_list.search(200)"
   ]
  },
  {
   "cell_type": "code",
   "execution_count": null,
   "metadata": {
    "collapsed": true
   },
   "outputs": [],
   "source": [
    "linked_list.reverse()"
   ]
  },
  {
   "cell_type": "code",
   "execution_count": null,
   "metadata": {},
   "outputs": [],
   "source": [
    "linked_list.traverse()"
   ]
  },
  {
   "cell_type": "code",
   "execution_count": null,
   "metadata": {
    "collapsed": true
   },
   "outputs": [],
   "source": [
    "linked_list.delete_by_value(5000)"
   ]
  },
  {
   "cell_type": "code",
   "execution_count": null,
   "metadata": {},
   "outputs": [],
   "source": [
    "linked_list.traverse()"
   ]
  },
  {
   "cell_type": "code",
   "execution_count": null,
   "metadata": {
    "collapsed": true
   },
   "outputs": [],
   "source": []
  }
 ],
 "metadata": {
  "kernelspec": {
   "display_name": "Python 3",
   "language": "python",
   "name": "python3"
  },
  "language_info": {
   "codemirror_mode": {
    "name": "ipython",
    "version": 3
   },
   "file_extension": ".py",
   "mimetype": "text/x-python",
   "name": "python",
   "nbconvert_exporter": "python",
   "pygments_lexer": "ipython3",
   "version": "3.6.8"
  }
 },
 "nbformat": 4,
 "nbformat_minor": 2
}
